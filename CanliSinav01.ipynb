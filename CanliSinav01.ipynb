{
  "nbformat": 4,
  "nbformat_minor": 0,
  "metadata": {
    "colab": {
      "provenance": [],
      "include_colab_link": true
    },
    "kernelspec": {
      "name": "python3",
      "display_name": "Python 3"
    },
    "language_info": {
      "name": "python"
    }
  },
  "cells": [
    {
      "cell_type": "markdown",
      "metadata": {
        "id": "view-in-github",
        "colab_type": "text"
      },
      "source": [
        "<a href=\"https://colab.research.google.com/github/mustafayildirim0903/hu-bby162-2024/blob/main/CanliSinav01.ipynb\" target=\"_parent\"><img src=\"https://colab.research.google.com/assets/colab-badge.svg\" alt=\"Open In Colab\"/></a>"
      ]
    },
    {
      "cell_type": "markdown",
      "source": [
        "**Canlı Sınav 01'e hoşgeldiniz!**"
      ],
      "metadata": {
        "id": "ItmuxWgBbkC1"
      }
    },
    {
      "cell_type": "markdown",
      "source": [
        "Canlı sınav, bilgisayar laboratuvarında bilgisayar başında yapılan ve teslim edilen projeyi ifade etmektedir. Canlı sınavda yazmış olduğunuz kodlar sizin sorumluluğunuzdadır ve gerekirse hangi kodu neden yazdığınızı açık bir şekilde anlatabilmeniz gerekmektedir. Canlı sınav sırasında İnternet üzerindeki kaynaklar kullanılabilir ancak başka bir kişiden destek alınamaz.\n",
        "\n",
        "Canlı sınavın teslim şekli önceki proje çalışmasında olduğu gibidir. \"Canlı Sınav 01\" adlı Colab not defterinin bir kopyasını çıkarmalı, size ait olan bu kopya üzerinde soruları cevaplamalı, GitHub'daki ders deponuza size ait kopyayı yüklemeli ve not defterinin adresini metin alanına yazarak göndermelisiniz.\n",
        "\n",
        "Canlı sınavın doğru şekilde tamamlanması da sınavın önemli bir parçasıdır. Sınav için gönderdiğiniz adresi kontrol ediniz ve doğru dosyayı depoya yerleştirdiği bizden emin olunuz. Teslim sürecinde yapılan hatalar sınavdan 0 puan almanıza yol açabilir!\n",
        "\n",
        "Önemli Not: Soruları cecaplarken sadece şu ana kadar öğrendiğiniz kod yapılarını kullanmanız gerekmektedir!!!"
      ],
      "metadata": {
        "id": "KGjdjR5RbTgH"
      }
    },
    {
      "cell_type": "markdown",
      "source": [
        "**----- Sorular -----**"
      ],
      "metadata": {
        "id": "zBvdh4s8cOqM"
      }
    },
    {
      "cell_type": "markdown",
      "source": [
        "**Soru 1:** Bir giriş sisteminde kullanıcı adı olarak eposta ya da telefon numarası kullanılabilmektedir. Şifre ise tektir. Klavyeden doğru kullanıcı adı ve şifre girildiğinde ekrana \" Sisteme giriş yaptınız\" , yanlış kullanıcı adı girildiğinde \"kullanıcı adı hatalı\" , yanlış şifre girildiğinde \"şifre hatalı\" bilgisi yazdırılmalıdır. Kullanıcı adı hatalı ise şifre sorma adımına geçilmemelidir."
      ],
      "metadata": {
        "id": "ma0FVqgQiLBe"
      }
    },
    {
      "cell_type": "code",
      "source": [
        "#Soru 1 bu bölümde kodlanmalıdır\n",
        "eposta = \"a@a.net\"\n",
        "tel = \"532\"\n",
        "sifre = \"123\"\n",
        "kullaniciAdi = \"eposta\" or \"tel\"\n",
        "girKulAdi = input(\"Kullanıcı Adı: \")\n",
        "girKulSifre = input(\"Şifre: \")\n",
        "\n",
        "if sonuc = (kullaniciAdi == girKulAdi) and (sifre == girKulSifre)\n",
        "  print(Sisteme giriş yaptınız)\n",
        "else\n",
        "\n",
        "\n"
      ],
      "metadata": {
        "id": "Fj7wkLMcjp_7"
      },
      "execution_count": null,
      "outputs": []
    },
    {
      "cell_type": "markdown",
      "source": [
        "**Soru 2:** Klavyeden girilen bir insan ismindeki harf sayısına göre ekrana bir cümle yazdırınız. Örneğin 4 harfli bir isim girildiğinde ekrana \"Dört dörtlük bir isim\", 6 harfli bir isim girildiğinde ekrana \"Altıncı hissin kuvvetli\" yazılabilmelidir. Klavyeden üçten az ya da yediden çok harfe sahip bir isim girildiğinde ise ekrana \"isminiz sisteme uygun değildir\" mesajı yazdırılmalıdır."
      ],
      "metadata": {
        "id": "uZDiXJARgK4o"
      }
    },
    {
      "cell_type": "code",
      "source": [
        "#Soru 2 bu bölümde kodlanmalıdır\n",
        "\n",
        "\n",
        "\n"
      ],
      "metadata": {
        "id": "no7Zd1ZCh5U3"
      },
      "execution_count": null,
      "outputs": []
    },
    {
      "cell_type": "markdown",
      "source": [
        "**Soru 3:** 5 öğenin yer aldığı bir kelime tahmin oyunu oluşturun. Kelimeler bir liste içinde yer almalıdır. Klavyeden girilen kelime liste içinde yer alan kelimelerden biri ise ekrana \"bravo oyunu kazandınız\", aksi halde ise ekrana \"üzgünüm oyunu kaybettiniz\" mesajı gelmelidir."
      ],
      "metadata": {
        "id": "HnIqbjcCeNEV"
      }
    },
    {
      "cell_type": "code",
      "source": [
        "#Soru 3 bu bölümde kodlanmalıdır\n",
        "Liste = [\"Aydın\", \"Ankara\", \"Zonguldak\", \"İzmir\", \"İstanbul\"]\n",
        "ilAdi = input(\"İl Adı  Giriniz: \")\n",
        "if ilAdi in Liste:\n",
        "  print(\"bravo oyunu kazandınız\")\n",
        "else :\n",
        "  print(\"üzgünüm oyunu kaybettiniz\")\n",
        "\n"
      ],
      "metadata": {
        "id": "SjzG5g3ffTyv",
        "colab": {
          "base_uri": "https://localhost:8080/"
        },
        "outputId": "ef32ea4d-a2ce-4528-a1d1-0e8e61af7047"
      },
      "execution_count": 6,
      "outputs": [
        {
          "output_type": "stream",
          "name": "stdout",
          "text": [
            "İl Adı  Giriniz: salı\n",
            "üzgünüm oyunu kaybettiniz\n"
          ]
        }
      ]
    },
    {
      "cell_type": "markdown",
      "source": [
        "**Soru 4:** 5 öğenin yer aldığı bir sözlük oluşturun. Bu sözlükte 5 kelime ve bu 5 kelimenin anlamları yer almalıdır. Klavyeden girilen anahtar (key) eğer sözlükte varsa kelimenin anlamı ekrana yazdırılmalıdır. Eğer anahtar sözlükte yoksa sözlükte aranan kelimenin olmadığı bilgisi ekrana yazdırılmalıdır."
      ],
      "metadata": {
        "id": "p49cZFjJcXoS"
      }
    },
    {
      "cell_type": "code",
      "execution_count": 8,
      "metadata": {
        "id": "3whYCDz3a8QZ",
        "colab": {
          "base_uri": "https://localhost:8080/"
        },
        "outputId": "986aa38f-60fc-4cca-a033-0ece991e5c76"
      },
      "outputs": [
        {
          "output_type": "stream",
          "name": "stdout",
          "text": [
            "Bakanlık Adı: Adalet Bakanlığı\n",
            "<built-in method keys of dict object at 0x7865f51500c0>\n"
          ]
        }
      ],
      "source": [
        "#Soru 4 bu bölümde kodlanmalıdır\n",
        "bakanlikKisaltmalari = {\"Adalet Bakanlığı\": \"ADB\", \"Aile ve Sosyal Hizmetler Bakanlığı\": \"ASHB\", \"Çalışma ve Sosyal Güvenlik Bakanlığı\": \"ÇSGB\", \"Çevre Şehircilik ve İklim Değişikliği Bakanlığı\": \"ÇŞİDB\", \"Dışişleri Bakanlığı\": \"DB\"}\n",
        "bakanlikAdi = input(\"Bakanlık Adı: \")\n",
        "if bakanlikAdi in bakanlikKisaltmalari:\n",
        "  print (bakanlikKisaltmalari.keys)"
      ]
    }
  ]
}