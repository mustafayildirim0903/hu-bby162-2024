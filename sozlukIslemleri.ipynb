{
  "cells": [
    {
      "cell_type": "markdown",
      "metadata": {
        "id": "view-in-github",
        "colab_type": "text"
      },
      "source": [
        "<a href=\"https://colab.research.google.com/github/mustafayildirim0903/hu-bby162-2024/blob/main/sozlukIslemleri.ipynb\" target=\"_parent\"><img src=\"https://colab.research.google.com/assets/colab-badge.svg\" alt=\"Open In Colab\"/></a>"
      ]
    },
    {
      "cell_type": "markdown",
      "source": [
        "BAKANLIK KISALTMALARI"
      ],
      "metadata": {
        "id": "4zMXOlyuhJIt"
      }
    },
    {
      "cell_type": "code",
      "execution_count": null,
      "metadata": {
        "id": "N5NTA7Kw_GOt"
      },
      "outputs": [],
      "source": [
        "#Sözlüğün oluşturulması\n",
        "bakanlikKisaltmalari = {\"Adalet Bakanlığı\": \"ADB\", \"Aile ve Sosyal Hizmetler Bakanlığı\": \"ASHB\", \"Çalışma ve Sosyal Güvenlik Bakanlığı\": \"ÇSGB\", \"Çevre Şehircilik ve İklim Değişikliği Bakanlığı\": \"ÇŞİDB\", \"Dışişleri Bakanlığı\": \"DB\", \"\tEnerji ve Tabii Kaynaklar Bakanlığı\": \"ETKB\", \"\tGençlik ve Spor Bakanlığı\": \"GSB\", \"Hazine ve Maliye Bakanlığı\": \"HMB\", \"İçişleri Bakanlığı\": \"İB\", \"Kültür ve Turizm Bakanlığı\": \"KTB\"}"
      ]
    },
    {
      "cell_type": "code",
      "execution_count": null,
      "metadata": {
        "id": "0vWVsa8__Md_"
      },
      "outputs": [],
      "source": [
        "#Sözlüğün yazdırılması\n",
        "print(bakanlikKisaltmalari)"
      ]
    },
    {
      "cell_type": "code",
      "execution_count": null,
      "metadata": {
        "id": "dZ1TejAR9u-c"
      },
      "outputs": [],
      "source": [
        "#Sözlüğe yeni bir bakanlık eklenmesi\n",
        "yeniBakanlik = input(\"Yeni bakanlık adı giriniz: \")\n",
        "bakanlikKisaltmalari.append(yeniBakanlik)\n",
        "yeniBakanlikKisaltma= input(\"Yeni bakanlık kisaltma giriniz: \")\n",
        "bakanlikKisaltmalari.append(yeniBakanlikKisaltma)\n",
        "bakanlikKisaltmalari[\"yeniBakanlik\"] = \"yeniBakanlikKisaltma\"\n",
        "print(bakanlikKisaltmalari)"
      ]
    },
    {
      "cell_type": "code",
      "execution_count": null,
      "metadata": {
        "id": "AoVlwvZ9ERAB"
      },
      "outputs": [],
      "source": [
        "#Sözlükteki bir öğenin silinmesi\n",
        "print(bakanlikKisaltmalari)\n",
        "silinecek = int(input(\"Silmek istediğiniz bakanlığın sıra numarasını giriniz: \"))\n",
        "print(\"Silinecek bakanlık: \" + bakanlikKisaltmalari[silinecek-1])\n",
        "del bakanlikKisaltmalari[silinecek-1]\n",
        "print(\"Silme tamamlandı\")\n",
        "print(bakanlikKisaltmalari)"
      ]
    },
    {
      "cell_type": "code",
      "execution_count": null,
      "metadata": {
        "id": "aCCe6CnMAS_K"
      },
      "outputs": [],
      "source": [
        "#Sözlükteki bir öğenin güncellenmesi\n",
        "print(bakanlikKisaltmalari)\n",
        "guncellenecek = int(input(\"Güncellemek istediğiniz bakanlığın sıra numarasını giriniz: \"))\n",
        "print(\"Güncellenecek bakanlık: \" + bakanlikKisaltmalari[guncellenecek-1])\n",
        "guncelBakanlik = input(\"Güncel bakanlık bilgisini giriniz: \")\n",
        "bakanlikKisaltmalari[guncellenecek-1] = guncelBakanlik\n",
        "print(\"Güncelleme tamamlandı\")\n",
        "print(bakanlikKisaltmalari)"
      ]
    },
    {
      "cell_type": "code",
      "source": [
        "#Sözlükte arama yapılması\n",
        "print(bakanlikKisaltmalari)\n",
        "arama = int(input(\"Arama için giriş yapınız: \"))\n",
        "print(\"arama\" in bakanlikKisaltmalari)\n",
        "print(\"Arama tamamlandı\")\n",
        "print(bakanlikKisaltmalari)"
      ],
      "metadata": {
        "id": "zg4lqMvth-tI"
      },
      "execution_count": null,
      "outputs": []
    }
  ],
  "metadata": {
    "colab": {
      "provenance": [],
      "include_colab_link": true
    },
    "kernelspec": {
      "display_name": "Python 3",
      "name": "python3"
    },
    "language_info": {
      "name": "python"
    }
  },
  "nbformat": 4,
  "nbformat_minor": 0
}